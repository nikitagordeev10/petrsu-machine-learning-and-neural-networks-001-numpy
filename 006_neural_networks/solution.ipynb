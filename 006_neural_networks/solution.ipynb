{
 "cells": [
  {
   "cell_type": "markdown",
   "id": "c3608e28",
   "metadata": {},
   "source": [
    "# Домашнее задание №6. Нейронные сети\n",
    "Суть этого задания в том, чтобы поиграться с параметрами сети, наблюдая за тем, как меняются результаты в зависимости от ваших действий."
   ]
  },
  {
   "cell_type": "markdown",
   "id": "4ffd5ba4",
   "metadata": {},
   "source": [
    "## Задание 1\n",
    "Скопируйте результаты первых трех заданий из Домашнего задания №5. У вас должен быть скачан и обработан датасет с данными о пассажирах Титаника. Получившийся DataFrame должен быть разделен на обучающую (80%) и тестовую выборку (20%)."
   ]
  },
  {
   "cell_type": "code",
   "execution_count": null,
   "id": "df6c8eda",
   "metadata": {},
   "outputs": [],
   "source": [
    "import pandas as pd\n",
    "\n",
    "# Загрузка данных из файла train.csv\n",
    "df = pd.read_csv('train.csv')\n",
    "\n",
    "print(df.head())"
   ]
  },
  {
   "cell_type": "code",
   "execution_count": null,
   "id": "f1e061dd",
   "metadata": {},
   "outputs": [],
   "source": [
    "# Преобразование категориальных данных в числовые\n",
    "df['Sex'] = df['Sex'].map({'male': 0, 'female': 1})\n",
    "\n",
    "# Удаление столбцов, которые не содержат числовых данных\n",
    "df = df.drop(['Name', 'Ticket', 'Cabin', 'Embarked'], axis=1)\n",
    "\n",
    "# Обработка пропусков в числовых столбцах\n",
    "df.fillna(df.mean(), inplace=True)\n",
    "\n",
    "# Проверка на пропуски после обработки\n",
    "print(df.isnull().sum())\n"
   ]
  },
  {
   "cell_type": "code",
   "execution_count": null,
   "id": "fb4c5d14",
   "metadata": {},
   "outputs": [],
   "source": [
    "from sklearn.model_selection import train_test_split\n",
    "\n",
    "# Целевая переменная (Survived)\n",
    "y = df['Survived']\n",
    "\n",
    "# Признаки (все столбцы, кроме Survived)\n",
    "X = df.drop('Survived', axis=1)\n",
    "\n",
    "# Разделение на обучающую (80%) и тестовую (20%) выборку\n",
    "X_train, X_test, y_train, y_test = train_test_split(X, y, test_size=0.2, random_state=42)\n",
    "\n",
    "# Проверка формы данных\n",
    "print(f\"Обучающая выборка X: {X_train.shape}\")\n",
    "print(f\"Тестовая выборка X: {X_test.shape}\")"
   ]
  },
  {
   "cell_type": "code",
   "execution_count": null,
   "id": "a70f19db",
   "metadata": {},
   "outputs": [],
   "source": [
    "from sklearn.linear_model import Perceptron\n",
    "from sklearn.metrics import accuracy_score\n",
    "\n",
    "# Инициализация модели перцептрона\n",
    "model = Perceptron(max_iter=1000, random_state=42)\n",
    "\n",
    "# Обучение модели на обучающих данных\n",
    "model.fit(X_train, y_train)\n",
    "\n",
    "# Прогнозирование на тестовых данных\n",
    "y_pred = model.predict(X_test)\n",
    "\n",
    "# Оценка точности\n",
    "accuracy = accuracy_score(y_test, y_pred)\n",
    "print(f'Точность модели: {accuracy:.2f}')"
   ]
  },
  {
   "cell_type": "markdown",
   "id": "18e39a26",
   "metadata": {},
   "source": [
    "# Код, рассмотренный на семинаре"
   ]
  },
  {
   "cell_type": "code",
   "execution_count": 60,
   "id": "aedc3c62",
   "metadata": {},
   "outputs": [],
   "source": [
    "import numpy as np"
   ]
  },
  {
   "cell_type": "markdown",
   "id": "26fe3394",
   "metadata": {},
   "source": [
    "#### Инициализация"
   ]
  },
  {
   "cell_type": "code",
   "execution_count": 61,
   "id": "39609492",
   "metadata": {},
   "outputs": [],
   "source": [
    "def init_layers(nn_architecture, seed = 99):\n",
    "    np.random.seed(seed)\n",
    "    number_of_layers = len(nn_architecture)\n",
    "    params_values = {}\n",
    "    \n",
    "    for idx, layer in enumerate(nn_architecture):\n",
    "        layer_idx = idx + 1\n",
    "        \n",
    "        layer_input_size = layer[\"input_dim\"]\n",
    "        layer_output_size = layer[\"output_dim\"]\n",
    "        \n",
    "        params_values['W' + str(layer_idx)] = np.random.randn(\n",
    "            layer_output_size, layer_input_size) * 0.1\n",
    "        params_values['b' + str(layer_idx)] = np.random.randn(\n",
    "            layer_output_size, 1) * 0.1\n",
    "        \n",
    "    return params_values"
   ]
  },
  {
   "cell_type": "markdown",
   "id": "29621dde",
   "metadata": {},
   "source": [
    "#### Функции активации"
   ]
  },
  {
   "cell_type": "code",
   "execution_count": 62,
   "id": "7b73553d",
   "metadata": {},
   "outputs": [],
   "source": [
    "def sigmoid(Z):\n",
    "    return 1/(1+np.exp(-Z))\n",
    "\n",
    "def relu(Z):\n",
    "    return np.maximum(0,Z)\n",
    "\n",
    "def sigmoid_backward(dA, Z):\n",
    "    sig = sigmoid(Z)\n",
    "    return dA * sig * (1 - sig)\n",
    "\n",
    "def relu_backward(dA, Z):\n",
    "    dZ = np.array(dA, copy = True)\n",
    "    dZ[Z <= 0] = 0;\n",
    "    return dZ;"
   ]
  },
  {
   "cell_type": "markdown",
   "id": "b1099ffa",
   "metadata": {},
   "source": [
    "#### Прямой проход"
   ]
  },
  {
   "cell_type": "code",
   "execution_count": 63,
   "id": "bd3ad6ba",
   "metadata": {},
   "outputs": [],
   "source": [
    "def single_layer_forward_propagation(A_prev, W_curr, b_curr, activation=\"relu\"):\n",
    "    Z_curr = np.dot(W_curr, A_prev) + b_curr\n",
    "\n",
    "    if activation == \"relu\":\n",
    "        activation_func = relu\n",
    "    elif activation == \"sigmoid\":\n",
    "        activation_func = sigmoid\n",
    "    else:\n",
    "        raise Exception('Non-supported activation function')\n",
    "        \n",
    "    return activation_func(Z_curr), Z_curr\n",
    "\n",
    "def full_forward_propagation(X, params_values, nn_architecture):\n",
    "    memory = {}\n",
    "    A_curr = X\n",
    "    \n",
    "    for idx, layer in enumerate(nn_architecture):\n",
    "        layer_idx = idx + 1\n",
    "        A_prev = A_curr\n",
    "        \n",
    "        activ_function_curr = layer[\"activation\"]\n",
    "        W_curr = params_values[\"W\" + str(layer_idx)]\n",
    "        b_curr = params_values[\"b\" + str(layer_idx)]\n",
    "        A_curr, Z_curr = single_layer_forward_propagation(A_prev, W_curr, b_curr, activ_function_curr)\n",
    "        \n",
    "        memory[\"A\" + str(idx)] = A_prev\n",
    "        memory[\"Z\" + str(layer_idx)] = Z_curr\n",
    "       \n",
    "    return A_curr, memory"
   ]
  },
  {
   "cell_type": "markdown",
   "id": "0b0a1609",
   "metadata": {},
   "source": [
    "#### Вычисление ошибки"
   ]
  },
  {
   "cell_type": "code",
   "execution_count": 64,
   "id": "a5e76a4a",
   "metadata": {},
   "outputs": [],
   "source": [
    "def get_cost_value(Y_hat, Y):\n",
    "    m = Y_hat.shape[1]\n",
    "    cost = -1 / m * (np.dot(Y, np.log(Y_hat).T) + np.dot(1 - Y, np.log(1 - Y_hat).T))\n",
    "    return np.squeeze(cost)"
   ]
  },
  {
   "cell_type": "markdown",
   "id": "6b98dc69",
   "metadata": {},
   "source": [
    "#### Обратный проход"
   ]
  },
  {
   "cell_type": "code",
   "execution_count": 65,
   "id": "bd332916",
   "metadata": {},
   "outputs": [],
   "source": [
    "def single_layer_backward_propagation(dA_curr, W_curr, b_curr, Z_curr, A_prev, activation=\"relu\"):\n",
    "    m = A_prev.shape[1]\n",
    "    \n",
    "    if activation == \"relu\":\n",
    "        backward_activation_func = relu_backward\n",
    "    elif activation == \"sigmoid\":\n",
    "        backward_activation_func = sigmoid_backward\n",
    "    else:\n",
    "        raise Exception('Non-supported activation function')\n",
    "    \n",
    "    dZ_curr = backward_activation_func(dA_curr, Z_curr)\n",
    "    \n",
    "    dW_curr = np.dot(dZ_curr, A_prev.T) / m\n",
    "    db_curr = np.sum(dZ_curr, axis=1, keepdims=True) / m\n",
    "    dA_prev = np.dot(W_curr.T, dZ_curr)\n",
    "\n",
    "    return dA_prev, dW_curr, db_curr\n",
    "\n",
    "def full_backward_propagation(Y_hat, Y, memory, params_values, nn_architecture):\n",
    "    grads_values = {}\n",
    "    \n",
    "    m = Y.shape[1]\n",
    "    Y = Y.reshape(Y_hat.shape)\n",
    "    \n",
    "    dA_prev = - (np.divide(Y, Y_hat) - np.divide(1 - Y, 1 - Y_hat));\n",
    "    \n",
    "    for layer_idx_prev, layer in reversed(list(enumerate(nn_architecture))):\n",
    "        layer_idx_curr = layer_idx_prev + 1\n",
    "        activ_function_curr = layer[\"activation\"]\n",
    "        \n",
    "        dA_curr = dA_prev\n",
    "        \n",
    "        A_prev = memory[\"A\" + str(layer_idx_prev)]\n",
    "        Z_curr = memory[\"Z\" + str(layer_idx_curr)]\n",
    "        \n",
    "        W_curr = params_values[\"W\" + str(layer_idx_curr)]\n",
    "        b_curr = params_values[\"b\" + str(layer_idx_curr)]\n",
    "        \n",
    "        dA_prev, dW_curr, db_curr = single_layer_backward_propagation(\n",
    "            dA_curr, W_curr, b_curr, Z_curr, A_prev, activ_function_curr)\n",
    "        \n",
    "        grads_values[\"dW\" + str(layer_idx_curr)] = dW_curr\n",
    "        grads_values[\"db\" + str(layer_idx_curr)] = db_curr\n",
    "    \n",
    "    return grads_values"
   ]
  },
  {
   "cell_type": "markdown",
   "id": "6b3c1415",
   "metadata": {},
   "source": [
    "#### Обновление весов"
   ]
  },
  {
   "cell_type": "code",
   "execution_count": 66,
   "id": "7921def6",
   "metadata": {},
   "outputs": [],
   "source": [
    "def update(params_values, grads_values, nn_architecture, learning_rate):\n",
    "\n",
    "    for layer_idx, layer in enumerate(nn_architecture, 1):\n",
    "        params_values[\"W\" + str(layer_idx)] -= learning_rate * grads_values[\"dW\" + str(layer_idx)]        \n",
    "        params_values[\"b\" + str(layer_idx)] -= learning_rate * grads_values[\"db\" + str(layer_idx)]\n",
    "\n",
    "    return params_values;"
   ]
  },
  {
   "cell_type": "markdown",
   "id": "44fc946c",
   "metadata": {},
   "source": [
    "#### Оценка результата"
   ]
  },
  {
   "cell_type": "code",
   "execution_count": 67,
   "id": "38bd76ab",
   "metadata": {},
   "outputs": [],
   "source": [
    "def convert_prob_into_class(probs):\n",
    "    probs_ = np.copy(probs)\n",
    "    probs_[probs_ > 0.5] = 1\n",
    "    probs_[probs_ <= 0.5] = 0\n",
    "    return probs_\n",
    "\n",
    "def get_accuracy_value(Y_hat, Y):\n",
    "    Y_hat_ = convert_prob_into_class(Y_hat)\n",
    "    return (Y_hat_ == Y).all(axis=0).mean()"
   ]
  },
  {
   "cell_type": "markdown",
   "id": "96dc0dcc",
   "metadata": {},
   "source": [
    "#### Функция для обучения"
   ]
  },
  {
   "cell_type": "code",
   "execution_count": 68,
   "id": "8ed8d50a",
   "metadata": {},
   "outputs": [],
   "source": [
    "def train(X, Y, nn_architecture, epochs, learning_rate, verbose=False, callback=None):\n",
    "    params_values = init_layers(nn_architecture, 2)\n",
    "    cost_history = []\n",
    "    accuracy_history = []\n",
    "    \n",
    "    for i in range(epochs):\n",
    "        Y_hat, cashe = full_forward_propagation(X, params_values, nn_architecture)\n",
    "        \n",
    "        cost = get_cost_value(Y_hat, Y)\n",
    "        cost_history.append(cost)\n",
    "        accuracy = get_accuracy_value(Y_hat, Y)\n",
    "        accuracy_history.append(accuracy)\n",
    "        \n",
    "        grads_values = full_backward_propagation(Y_hat, Y, cashe, params_values, nn_architecture)\n",
    "        params_values = update(params_values, grads_values, nn_architecture, learning_rate)\n",
    "        \n",
    "        if(i % 50 == 0):\n",
    "            if(verbose):\n",
    "                print(\"Iteration: {:05} - cost: {:.5f} - accuracy: {:.5f}\".format(i, cost, accuracy))\n",
    "            if(callback is not None):\n",
    "                callback(i, params_values)\n",
    "            \n",
    "    return params_values"
   ]
  },
  {
   "cell_type": "markdown",
   "id": "477442d2",
   "metadata": {},
   "source": [
    "#### Ячейка с параметрами слоев"
   ]
  },
  {
   "cell_type": "code",
   "execution_count": 69,
   "id": "9421c893",
   "metadata": {},
   "outputs": [],
   "source": [
    "# NN_ARCHITECTURE = [\n",
    "#     {\"input_dim\": 2, \"output_dim\": 25, \"activation\": \"relu\"},\n",
    "#     {\"input_dim\": 25, \"output_dim\": 50, \"activation\": \"relu\"},\n",
    "#     {\"input_dim\": 50, \"output_dim\": 50, \"activation\": \"relu\"},\n",
    "#     {\"input_dim\": 50, \"output_dim\": 25, \"activation\": \"relu\"},\n",
    "#     {\"input_dim\": 25, \"output_dim\": 1, \"activation\": \"sigmoid\"},\n",
    "# ]"
   ]
  },
  {
   "cell_type": "markdown",
   "id": "0733f647",
   "metadata": {},
   "source": [
    "#### Ячейка с обучением"
   ]
  },
  {
   "cell_type": "code",
   "execution_count": 70,
   "id": "077fb077",
   "metadata": {},
   "outputs": [],
   "source": [
    "# # Обучение\n",
    "# params_values = train(np.transpose(X_train), np.transpose(y_train.reshape((y_train.shape[0], 1))), NN_ARCHITECTURE, 100, 0.01)\n",
    "# # Предсказание\n",
    "# Y_test_hat, _ = full_forward_propagation(np.transpose(X_test), params_values, NN_ARCHITECTURE)\n",
    "# # Оценка на тестовой выборке\n",
    "# acc_test = get_accuracy_value(Y_test_hat, np.transpose(y_test.reshape((y_test.shape[0], 1))))\n",
    "# print(\"Test set accuracy: {:.2f}\".format(acc_test))"
   ]
  },
  {
   "cell_type": "markdown",
   "id": "d39f761e",
   "metadata": {},
   "source": [
    "## Задание 2. Запуск на данных\n",
    "Модифицируйте код в последних двух ячейках так, чтобы его можно было запускать на подготовленных данных. Запишите исправленные ячейки ниже и запустите."
   ]
  },
  {
   "cell_type": "code",
   "execution_count": 71,
   "id": "c0b4dc19",
   "metadata": {},
   "outputs": [],
   "source": [
    "NN_ARCHITECTURE = [\n",
    "    {\"input_dim\": 7, \"output_dim\": 25, \"activation\": \"relu\"},\n",
    "    {\"input_dim\": 25, \"output_dim\": 50, \"activation\": \"relu\"},\n",
    "    {\"input_dim\": 50, \"output_dim\": 50, \"activation\": \"relu\"},\n",
    "    {\"input_dim\": 50, \"output_dim\": 25, \"activation\": \"relu\"},\n",
    "    {\"input_dim\": 25, \"output_dim\": 1, \"activation\": \"sigmoid\"},\n",
    "]"
   ]
  },
  {
   "cell_type": "code",
   "execution_count": null,
   "id": "d9bd8dee",
   "metadata": {},
   "outputs": [],
   "source": [
    "# Обучение\n",
    "params_values = train(np.transpose(X_train), np.transpose(y_train.values.reshape((y_train.shape[0], 1))), NN_ARCHITECTURE, 100, 0.01)\n",
    "# Предсказание\n",
    "Y_test_hat, _ = full_forward_propagation(np.transpose(X_test), params_values, NN_ARCHITECTURE)\n",
    "# Оценка на тестовой выборке\n",
    "acc_test = get_accuracy_value(Y_test_hat, np.transpose(y_test.values.reshape((y_test.shape[0], 1))))\n",
    "print(\"Test set accuracy: {:.2f}\".format(acc_test))\n"
   ]
  },
  {
   "cell_type": "markdown",
   "id": "39753fcd",
   "metadata": {},
   "source": [
    "## Задание 3. Нормализация данных\n",
    "На результат обучения влияет то, что данные в разных столбцах могут принимать совсем разные по величине значения, все измеряются в разных единицах. Нормализуйте данные, например, при помощи <code>sklearn.preprocessing.StandardScaler</code>. А затем снова скопируйте сюда ячейку с обучением и запустите, чтобы оценить, как меняется результат."
   ]
  },
  {
   "cell_type": "code",
   "execution_count": 73,
   "id": "5590334a",
   "metadata": {},
   "outputs": [],
   "source": [
    "# Напишите свой код в данной ячейке\n",
    "from sklearn.preprocessing import StandardScaler\n",
    "# Нормализация данных\n",
    "scaler = StandardScaler()\n",
    "X_train = scaler.fit_transform(X_train)\n",
    "X_test = scaler.transform(X_test)"
   ]
  },
  {
   "cell_type": "markdown",
   "id": "a662ba6f",
   "metadata": {},
   "source": [
    "## Задание 4. Число эпох\n",
    "Попробуйте обучать, используя разные значения числа эпох."
   ]
  },
  {
   "cell_type": "code",
   "execution_count": null,
   "id": "f28f59c5",
   "metadata": {},
   "outputs": [],
   "source": [
    "# Ячейка с обучением, в которой число эпох равно 10\n",
    "# Обучение с разным числом эпох\n",
    "\n",
    "# Обучение\n",
    "params_values = train(\n",
    "    np.transpose(X_train),\n",
    "    np.transpose(y_train.values.reshape((y_train.shape[0], 1))),\n",
    "    NN_ARCHITECTURE,\n",
    "    epochs=10,\n",
    "    learning_rate=0.01,\n",
    ")\n",
    "# Предсказание\n",
    "Y_test_hat, _ = full_forward_propagation(\n",
    "    np.transpose(X_test), params_values, NN_ARCHITECTURE\n",
    ")\n",
    "# Оценка на тестовой выборке\n",
    "acc_test = get_accuracy_value(\n",
    "    Y_test_hat, np.transpose(y_test.values.reshape((y_test.shape[0], 1)))\n",
    ")\n",
    "print(\"Test set accuracy: {:.2f}\".format(acc_test))\n"
   ]
  },
  {
   "cell_type": "code",
   "execution_count": null,
   "id": "ab470d22",
   "metadata": {},
   "outputs": [],
   "source": [
    "# Ячейка с обучением, в которой число эпох равно 1000\n",
    "\n",
    "# Обучение\n",
    "params_values = train(\n",
    "    np.transpose(X_train),\n",
    "    np.transpose(y_train.values.reshape((y_train.shape[0], 1))),\n",
    "    NN_ARCHITECTURE,\n",
    "    epochs=1000,\n",
    "    learning_rate=0.01,\n",
    ")\n",
    "# Предсказание\n",
    "Y_test_hat, _ = full_forward_propagation(\n",
    "    np.transpose(X_test), params_values, NN_ARCHITECTURE\n",
    ")\n",
    "# Оценка на тестовой выборке\n",
    "acc_test = get_accuracy_value(\n",
    "    Y_test_hat, np.transpose(y_test.values.reshape((y_test.shape[0], 1)))\n",
    ")\n",
    "print(\"Test set accuracy: {:.2f}\".format(acc_test))"
   ]
  },
  {
   "cell_type": "code",
   "execution_count": null,
   "id": "3790cb58",
   "metadata": {},
   "outputs": [],
   "source": [
    "# Ячейка с обучением, в которой число эпох равно 10000\n",
    "\n",
    "# Обучение\n",
    "params_values = train(\n",
    "    np.transpose(X_train),\n",
    "    np.transpose(y_train.values.reshape((y_train.shape[0], 1))),\n",
    "    NN_ARCHITECTURE,\n",
    "    epochs=10000,\n",
    "    learning_rate=0.01,\n",
    ")\n",
    "# Предсказание\n",
    "Y_test_hat, _ = full_forward_propagation(\n",
    "    np.transpose(X_test), params_values, NN_ARCHITECTURE\n",
    ")\n",
    "# Оценка на тестовой выборке\n",
    "acc_test = get_accuracy_value(\n",
    "    Y_test_hat, np.transpose(y_test.values.reshape((y_test.shape[0], 1)))\n",
    ")\n",
    "print(\"Test set accuracy: {:.2f}\".format(acc_test))"
   ]
  },
  {
   "cell_type": "markdown",
   "id": "b0606fd3",
   "metadata": {},
   "source": [
    "## Задание 5. Скорость обучения\n",
    "Попробуйте обучать, используя разные значения скорости обучения. Число эпох выберите на выше усмотрение, но одинаковое во всех трех ячейках."
   ]
  },
  {
   "cell_type": "code",
   "execution_count": null,
   "id": "ff78246b",
   "metadata": {},
   "outputs": [],
   "source": [
    "# Ячейка с обучением, в которой скорость обучения равна 0.0001\n",
    "\n",
    "# Обучение\n",
    "params_values = train(\n",
    "    np.transpose(X_train),\n",
    "    np.transpose(y_train.values.reshape((y_train.shape[0], 1))),\n",
    "    NN_ARCHITECTURE,\n",
    "    epochs=1000,\n",
    "    learning_rate=0.0001,\n",
    ")\n",
    "# Предсказание\n",
    "Y_test_hat, _ = full_forward_propagation(\n",
    "    np.transpose(X_test), params_values, NN_ARCHITECTURE\n",
    ")\n",
    "# Оценка на тестовой выборке\n",
    "acc_test = get_accuracy_value(\n",
    "    Y_test_hat, np.transpose(y_test.values.reshape((y_test.shape[0], 1)))\n",
    ")\n",
    "print(\"Test set accuracy: {:.2f}\".format(acc_test))"
   ]
  },
  {
   "cell_type": "code",
   "execution_count": null,
   "id": "cde1f312",
   "metadata": {},
   "outputs": [],
   "source": [
    "# Ячейка с обучением, в которой скорость обучения равна 0.001\n",
    "\n",
    "# Обучение\n",
    "params_values = train(\n",
    "    np.transpose(X_train),\n",
    "    np.transpose(y_train.values.reshape((y_train.shape[0], 1))),\n",
    "    NN_ARCHITECTURE,\n",
    "    epochs=1000,\n",
    "    learning_rate=0.001,\n",
    ")\n",
    "# Предсказание\n",
    "Y_test_hat, _ = full_forward_propagation(\n",
    "    np.transpose(X_test), params_values, NN_ARCHITECTURE\n",
    ")\n",
    "# Оценка на тестовой выборке\n",
    "acc_test = get_accuracy_value(\n",
    "    Y_test_hat, np.transpose(y_test.values.reshape((y_test.shape[0], 1)))\n",
    ")\n",
    "print(\"Test set accuracy: {:.2f}\".format(acc_test))"
   ]
  },
  {
   "cell_type": "code",
   "execution_count": null,
   "id": "f53cfb78",
   "metadata": {},
   "outputs": [],
   "source": [
    "# Ячейка с обучением, в которой скорость обучения равна 0.01\n",
    "\n",
    "# Обучение\n",
    "params_values = train(\n",
    "    np.transpose(X_train),\n",
    "    np.transpose(y_train.values.reshape((y_train.shape[0], 1))),\n",
    "    NN_ARCHITECTURE,\n",
    "    epochs=1000,\n",
    "    learning_rate=0.01,\n",
    ")\n",
    "# Предсказание\n",
    "Y_test_hat, _ = full_forward_propagation(\n",
    "    np.transpose(X_test), params_values, NN_ARCHITECTURE\n",
    ")\n",
    "# Оценка на тестовой выборке\n",
    "acc_test = get_accuracy_value(\n",
    "    Y_test_hat, np.transpose(y_test.values.reshape((y_test.shape[0], 1)))\n",
    ")\n",
    "print(\"Test set accuracy: {:.2f}\".format(acc_test))"
   ]
  },
  {
   "cell_type": "markdown",
   "id": "e7f924fb",
   "metadata": {},
   "source": [
    "## Задание 6. Изменение слоев\n",
    "Начиная с этого задания вы можете выбирать число эпох и скорость обучения самостоятельно.\n",
    "\n",
    "А еще теперь кроме ячейки с обучением будет меняться еще и ячейка с параметрами слоев. То есть каждая ячейка с ответом будет выглядеть как-то так:"
   ]
  },
  {
   "cell_type": "code",
   "execution_count": null,
   "id": "f12b0067",
   "metadata": {},
   "outputs": [],
   "source": [
    "NN_ARCHITECTURE = [\n",
    "    {\"input_dim\": 7, \"output_dim\": 25, \"activation\": \"relu\"},\n",
    "    {\"input_dim\": 25, \"output_dim\": 50, \"activation\": \"relu\"},\n",
    "    {\"input_dim\": 50, \"output_dim\": 50, \"activation\": \"relu\"},\n",
    "    {\"input_dim\": 50, \"output_dim\": 25, \"activation\": \"relu\"},\n",
    "    {\"input_dim\": 25, \"output_dim\": 1, \"activation\": \"sigmoid\"},\n",
    "]\n",
    "\n",
    "# Обучение\n",
    "params_values = train(\n",
    "    np.transpose(X_train),\n",
    "    np.transpose(y_train.values.reshape((y_train.shape[0], 1))),\n",
    "    NN_ARCHITECTURE,\n",
    "    epochs=1000,\n",
    "    learning_rate=0.01,\n",
    ")\n",
    "# Предсказание\n",
    "Y_test_hat, _ = full_forward_propagation(\n",
    "    np.transpose(X_test), params_values, NN_ARCHITECTURE\n",
    ")\n",
    "# Оценка на тестовой выборке\n",
    "acc_test = get_accuracy_value(\n",
    "    Y_test_hat, np.transpose(y_test.values.reshape((y_test.shape[0], 1)))\n",
    ")\n",
    "print(\"Test set accuracy: {:.2f}\".format(acc_test))"
   ]
  },
  {
   "cell_type": "markdown",
   "id": "68210e41",
   "metadata": {},
   "source": [
    "После каждого изменения параметров, не забывайте вставлять код с обучением и выводом accuracy."
   ]
  },
  {
   "cell_type": "code",
   "execution_count": null,
   "id": "f3774de6",
   "metadata": {},
   "outputs": [],
   "source": [
    "# Ячейка с обучением и параметрами слоев, в которой есть только последний выходной слой с sigmoid\n",
    "\n",
    "# Какой-то комментарий про эту ячейку\n",
    "NN_ARCHITECTURE = [\n",
    "    {\"input_dim\": 7, \"output_dim\": 25, \"activation\": \"relu\"},\n",
    "    {\"input_dim\": 25, \"output_dim\": 50, \"activation\": \"relu\"},\n",
    "    {\"input_dim\": 50, \"output_dim\": 50, \"activation\": \"relu\"},\n",
    "    {\"input_dim\": 50, \"output_dim\": 25, \"activation\": \"sigmoid\"},\n",
    "    {\"input_dim\": 25, \"output_dim\": 1, \"activation\": \"sigmoid\"},\n",
    "]\n",
    "\n",
    "# Обучение\n",
    "params_values = train(\n",
    "    np.transpose(X_train),\n",
    "    np.transpose(y_train.values.reshape((y_train.shape[0], 1))),\n",
    "    NN_ARCHITECTURE,\n",
    "    epochs=1000,\n",
    "    learning_rate=0.01,\n",
    ")\n",
    "# Предсказание\n",
    "Y_test_hat, _ = full_forward_propagation(\n",
    "    np.transpose(X_test), params_values, NN_ARCHITECTURE\n",
    ")\n",
    "# Оценка на тестовой выборке\n",
    "acc_test = get_accuracy_value(\n",
    "    Y_test_hat, np.transpose(y_test.values.reshape((y_test.shape[0], 1)))\n",
    ")\n",
    "print(\"Test set accuracy: {:.2f}\".format(acc_test))"
   ]
  },
  {
   "cell_type": "code",
   "execution_count": null,
   "id": "fff212f7",
   "metadata": {},
   "outputs": [],
   "source": [
    "# Ячейка с обучением и параметрами слоев, в которой все функции активации это sigmoid\n",
    "\n",
    "NN_ARCHITECTURE = [\n",
    "    {\"input_dim\": 7, \"output_dim\": 25, \"activation\": \"sigmoid\"},\n",
    "    {\"input_dim\": 25, \"output_dim\": 50, \"activation\": \"sigmoid\"},\n",
    "    {\"input_dim\": 50, \"output_dim\": 50, \"activation\": \"sigmoid\"},\n",
    "    {\"input_dim\": 50, \"output_dim\": 25, \"activation\": \"sigmoid\"},\n",
    "    {\"input_dim\": 25, \"output_dim\": 1, \"activation\": \"sigmoid\"},\n",
    "]\n",
    "\n",
    "# Обучение\n",
    "params_values = train(\n",
    "    np.transpose(X_train),\n",
    "    np.transpose(y_train.values.reshape((y_train.shape[0], 1))),\n",
    "    NN_ARCHITECTURE,\n",
    "    epochs=1000,\n",
    "    learning_rate=0.01,\n",
    ")\n",
    "# Предсказание\n",
    "Y_test_hat, _ = full_forward_propagation(\n",
    "    np.transpose(X_test), params_values, NN_ARCHITECTURE\n",
    ")\n",
    "# Оценка на тестовой выборке\n",
    "acc_test = get_accuracy_value(\n",
    "    Y_test_hat, np.transpose(y_test.values.reshape((y_test.shape[0], 1)))\n",
    ")\n",
    "print(\"Test set accuracy: {:.2f}\".format(acc_test))"
   ]
  },
  {
   "cell_type": "code",
   "execution_count": null,
   "id": "609ff2c6",
   "metadata": {},
   "outputs": [],
   "source": [
    "# Ячейка с обучением и параметрами слоев, в которой есть два слоя с relu и выходной слой с sigmoid\n",
    "NN_ARCHITECTURE_RELU_SIGMOID = [\n",
    "    {\"input_dim\": 7, \"output_dim\": 25, \"activation\": \"relu\"},\n",
    "    {\"input_dim\": 25, \"output_dim\": 50, \"activation\": \"relu\"},\n",
    "    {\"input_dim\": 50, \"output_dim\": 1, \"activation\": \"sigmoid\"},\n",
    "]\n",
    "\n",
    "# Обучение\n",
    "params_values = train(\n",
    "    np.transpose(X_train),\n",
    "    np.transpose(y_train.values.reshape((y_train.shape[0], 1))),\n",
    "    NN_ARCHITECTURE,\n",
    "    epochs=1000,\n",
    "    learning_rate=0.01,\n",
    ")\n",
    "# Предсказание\n",
    "Y_test_hat, _ = full_forward_propagation(\n",
    "    np.transpose(X_test), params_values, NN_ARCHITECTURE\n",
    ")\n",
    "# Оценка на тестовой выборке\n",
    "acc_test = get_accuracy_value(\n",
    "    Y_test_hat, np.transpose(y_test.values.reshape((y_test.shape[0], 1)))\n",
    ")\n",
    "print(\"Test set accuracy: {:.2f}\".format(acc_test))"
   ]
  },
  {
   "cell_type": "code",
   "execution_count": null,
   "id": "e05dadf5",
   "metadata": {},
   "outputs": [],
   "source": [
    "# Ячейка с обучением и параметрами слоев, в которой есть два слоя с relu и выходной слой с sigmoid\n",
    "# а еще число нейронов на каждом слое равно 8 (кроме входного и выходного)\n",
    "NN_ARCHITECTURE_TWO_RELU_8 = [\n",
    "    {\"input_dim\": 2, \"output_dim\": 8, \"activation\": \"relu\"},\n",
    "    {\"input_dim\": 8, \"output_dim\": 8, \"activation\": \"relu\"},\n",
    "    {\"input_dim\": 8, \"output_dim\": 1, \"activation\": \"sigmoid\"},\n",
    "]\n",
    "\n",
    "# Обучение\n",
    "params_values = train(\n",
    "    np.transpose(X_train),\n",
    "    np.transpose(y_train.values.reshape((y_train.shape[0], 1))),\n",
    "    NN_ARCHITECTURE,\n",
    "    epochs=1000,\n",
    "    learning_rate=0.01,\n",
    ")\n",
    "# Предсказание\n",
    "Y_test_hat, _ = full_forward_propagation(\n",
    "    np.transpose(X_test), params_values, NN_ARCHITECTURE\n",
    ")\n",
    "# Оценка на тестовой выборке\n",
    "acc_test = get_accuracy_value(\n",
    "    Y_test_hat, np.transpose(y_test.values.reshape((y_test.shape[0], 1)))\n",
    ")\n",
    "print(\"Test set accuracy: {:.2f}\".format(acc_test))"
   ]
  },
  {
   "cell_type": "code",
   "execution_count": null,
   "id": "9c6d6a18",
   "metadata": {},
   "outputs": [],
   "source": [
    "# Ячейка с обучением и параметрами слоев, в которой есть два слоя с relu и выходной слой с sigmoid\n",
    "# а еще число нейронов на каждом слое равно 100 (кроме входного и выходного)\n",
    "NN_ARCHITECTURE_TWO_RELU_100 = [\n",
    "    {\"input_dim\": 2, \"output_dim\": 100, \"activation\": \"relu\"},\n",
    "    {\"input_dim\": 100, \"output_dim\": 100, \"activation\": \"relu\"},\n",
    "    {\"input_dim\": 100, \"output_dim\": 1, \"activation\": \"sigmoid\"},\n",
    "]\n",
    "\n",
    "# Обучение\n",
    "params_values = train(\n",
    "    np.transpose(X_train),\n",
    "    np.transpose(y_train.values.reshape((y_train.shape[0], 1))),\n",
    "    NN_ARCHITECTURE,\n",
    "    epochs=1000,\n",
    "    learning_rate=0.01,\n",
    ")\n",
    "# Предсказание\n",
    "Y_test_hat, _ = full_forward_propagation(\n",
    "    np.transpose(X_test), params_values, NN_ARCHITECTURE\n",
    ")\n",
    "# Оценка на тестовой выборке\n",
    "acc_test = get_accuracy_value(\n",
    "    Y_test_hat, np.transpose(y_test.values.reshape((y_test.shape[0], 1)))\n",
    ")\n",
    "print(\"Test set accuracy: {:.2f}\".format(acc_test))"
   ]
  }
 ],
 "metadata": {
  "kernelspec": {
   "display_name": ".venv",
   "language": "python",
   "name": "python3"
  },
  "language_info": {
   "codemirror_mode": {
    "name": "ipython",
    "version": 3
   },
   "file_extension": ".py",
   "mimetype": "text/x-python",
   "name": "python",
   "nbconvert_exporter": "python",
   "pygments_lexer": "ipython3",
   "version": "3.10.11"
  }
 },
 "nbformat": 4,
 "nbformat_minor": 5
}
