{
 "cells": [
  {
   "cell_type": "markdown",
   "metadata": {
    "id": "Knw9VPXBA4gJ"
   },
   "source": [
    "# Домашнее задание №2. Pandas"
   ]
  },
  {
   "cell_type": "code",
   "execution_count": 3,
   "metadata": {
    "ExecuteTime": {
     "end_time": "2024-10-17T18:31:30.364271800Z",
     "start_time": "2024-10-17T18:31:29.551497600Z"
    },
    "collapsed": false
   },
   "outputs": [],
   "source": [
    "import pandas as pd\n",
    "import numpy as np"
   ]
  },
  {
   "cell_type": "markdown",
   "metadata": {
    "id": "IoDWX58hedPX"
   },
   "source": [
    "### Задание 1"
   ]
  },
  {
   "cell_type": "markdown",
   "metadata": {
    "id": "ASdWJiJ-m3sO"
   },
   "source": [
    "1. Создайте серию `pd.Series`, которая будет содрежать инфомацию о целочисленных оценках на экзамене по алгебре учеников: Александр, Борис, Владимир, Дмитрий, Григорий, Евгений, Игорь, Клим, Леонид, Максим. Созданную серию сохраните в переменную one_mark. Этой серии задайте имя \"Оценка по алгебре\". Выведите полученную серию на экран.\n",
    "2. Увеличьте оценку Максима на 1 балл и сохраните ее в серии. Выведите на экран из серию только оценку Максима.\n",
    "3. Задав маску, получить и вывести информацию о тем учениках, у которых оценка не меньше 4."
   ]
  },
  {
   "cell_type": "code",
   "execution_count": 13,
   "metadata": {
    "ExecuteTime": {
     "end_time": "2024-10-17T18:33:31.319594400Z",
     "start_time": "2024-10-17T18:33:31.236686500Z"
    },
    "id": "tz-5xgIUecma"
   },
   "outputs": [
    {
     "name": "stdout",
     "output_type": "stream",
     "text": [
      "Серия с оценками:\n",
      "Александр    5\n",
      "Борис        3\n",
      "Владимир     4\n",
      "Дмитрий      5\n",
      "Григорий     2\n",
      "Евгений      4\n",
      "Игорь        3\n",
      "Клим         5\n",
      "Леонид       4\n",
      "Максим       3\n",
      "Name: Оценка по алгебре, dtype: int64\n",
      "\n",
      "Оценка Максима после повышения:\n",
      "4\n",
      "\n",
      "Ученики с оценкой не меньше 4:\n",
      "Александр    5\n",
      "Владимир     4\n",
      "Дмитрий      5\n",
      "Евгений      4\n",
      "Клим         5\n",
      "Леонид       4\n",
      "Максим       4\n",
      "Name: Оценка по алгебре, dtype: int64\n"
     ]
    }
   ],
   "source": [
    "# ========\n",
    "# Создаем серию с оценками учеников\n",
    "grades = {\n",
    "    \"Александр\": 5,\n",
    "    \"Борис\": 3,\n",
    "    \"Владимир\": 4,\n",
    "    \"Дмитрий\": 5,\n",
    "    \"Григорий\": 2,\n",
    "    \"Евгений\": 4,\n",
    "    \"Игорь\": 3,\n",
    "    \"Клим\": 5,\n",
    "    \"Леонид\": 4,\n",
    "    \"Максим\": 3\n",
    "}\n",
    "\n",
    "# Создаем серию и задаем имя\n",
    "one_mark = pd.Series(grades, name=\"Оценка по алгебре\")\n",
    "print(\"Серия с оценками:\")\n",
    "print(one_mark)\n",
    "\n",
    "# Увеличиваем оценку Максима на 1 балл\n",
    "one_mark[\"Максим\"] += 1\n",
    "print(\"\\nОценка Максима после повышения:\")\n",
    "print(one_mark[\"Максим\"])\n",
    "\n",
    "# Выводим информацию о тех учениках, у которых оценка не меньше 4\n",
    "high_grades_mask = one_mark >= 4\n",
    "print(\"\\nУченики с оценкой не меньше 4:\")\n",
    "print(one_mark[high_grades_mask])\n",
    "# ========"
   ]
  },
  {
   "cell_type": "markdown",
   "metadata": {
    "id": "MPgVgDUTnXqw"
   },
   "source": [
    "### Задание 2"
   ]
  },
  {
   "cell_type": "markdown",
   "metadata": {
    "id": "mTythu13nXqx"
   },
   "source": [
    "Создайте `pd.DataFrame`, которая будет содержать инфомацию о целочисленных оценках на экзаменах по алгебре, геометрии и физике учеников: Александр, Борис, Владимир, Дмитрий, Григорий, Евгений, Игорь, Клим, Леонид, Максим. Оценки сгенерируйте случайным образом. Созданный `DataFrame` сохраните в переменную marks. Этому `DataFrame` задайте имя \"*Экзаменационные оценки*\" и выведите его на экран.\n"
   ]
  },
  {
   "cell_type": "code",
   "execution_count": 29,
   "metadata": {
    "ExecuteTime": {
     "end_time": "2024-10-17T19:11:33.607718500Z",
     "start_time": "2024-10-17T19:11:33.495844600Z"
    },
    "id": "fRs0MMT2nXqy"
   },
   "outputs": [
    {
     "name": "stdout",
     "output_type": "stream",
     "text": [
      "           Алгебра  Геометрия  Физика\n",
      "Александр        5          3       2\n",
      "Борис            2          3       3\n",
      "Владимир         3          5       5\n",
      "Дмитрий          2          5       5\n",
      "Григорий         2          2       4\n",
      "Евгений          4          2       2\n",
      "Игорь            3          4       5\n",
      "Клим             5          3       5\n",
      "Леонид           5          3       3\n",
      "Максим           3          4       3\n"
     ]
    }
   ],
   "source": [
    "# ========\n",
    "# Имена учеников\n",
    "students = [\"Александр\", \"Борис\", \"Владимир\", \"Дмитрий\", \"Григорий\", \"Евгений\", \"Игорь\", \"Клим\", \"Леонид\", \"Максим\"]\n",
    "\n",
    "# Генерируем случайные оценки\n",
    "np.random.seed(1322)  # Для воспроизводимости результатов\n",
    "marks_data = {\n",
    "    \"Алгебра\": np.random.randint(2, 6, size=len(students)),\n",
    "    \"Геометрия\": np.random.randint(2, 6, size=len(students)),\n",
    "    \"Физика\": np.random.randint(2, 6, size=len(students))\n",
    "}\n",
    "\n",
    "# DataFrame с оценками\n",
    "marks = pd.DataFrame(marks_data, index=students)\n",
    "marks.name = \"Экзаменационные оценки\"\n",
    "print(marks)\n",
    "# ========"
   ]
  },
  {
   "cell_type": "markdown",
   "metadata": {
    "id": "3m6tFVafqu8e"
   },
   "source": [
    "### Задание 3"
   ]
  },
  {
   "cell_type": "markdown",
   "metadata": {
    "id": "WiRSRFSrqu8g"
   },
   "source": [
    "Полученный в предыдущем задании `marks` изменить следующим образом (все изменения должны быть сохранены в `marks`):\n",
    "  1.  Оценки всех учеников по геометрии уменьшите на 1 балл.\n",
    "  2.  Увеличьте все оценки Максима на 1 балл.\n",
    "  3.  Измените оценку по алгебре у Бориса на 5.\n",
    "  4.  Измените все оценки в столбце №2 на 4. <br>\n",
    "Выведите `marks` на экран.\n"
   ]
  },
  {
   "cell_type": "code",
   "execution_count": 33,
   "metadata": {
    "ExecuteTime": {
     "end_time": "2024-10-17T19:12:44.863777400Z",
     "start_time": "2024-10-17T19:12:44.781988Z"
    },
    "id": "zlpEdjGvqu8h"
   },
   "outputs": [
    {
     "name": "stdout",
     "output_type": "stream",
     "text": [
      "           Алгебра  Геометрия  Физика\n",
      "Александр        5          1       2\n",
      "Борис            2          1       3\n",
      "Владимир         3          3       5\n",
      "Дмитрий          2          3       5\n",
      "Григорий         2          0       4\n",
      "Евгений          4          0       2\n",
      "Игорь            3          2       5\n",
      "Клим             5          1       5\n",
      "Леонид           5          1       3\n",
      "Максим           5          4       5\n"
     ]
    }
   ],
   "source": [
    "# ========\n",
    "marks[\"Геометрия\"] -= 1\n",
    "print(marks)\n",
    "# ========"
   ]
  },
  {
   "cell_type": "code",
   "execution_count": 39,
   "metadata": {
    "ExecuteTime": {
     "end_time": "2024-10-17T19:13:57.969800400Z",
     "start_time": "2024-10-17T19:13:57.909002800Z"
    },
    "collapsed": false
   },
   "outputs": [
    {
     "name": "stdout",
     "output_type": "stream",
     "text": [
      "           Алгебра  Геометрия  Физика\n",
      "Александр        5          4       2\n",
      "Борис            5          4       3\n",
      "Владимир         3          4       5\n",
      "Дмитрий          2          4       5\n",
      "Григорий         2          4       4\n",
      "Евгений          4          4       2\n",
      "Игорь            3          4       5\n",
      "Клим             5          4       5\n",
      "Леонид           5          4       3\n",
      "Максим           5          5       5\n"
     ]
    }
   ],
   "source": [
    "# ========\n",
    "marks.loc[\"Максим\"] = marks.loc[\"Максим\"].apply(lambda x: x + 1 if x < 5 else x)\n",
    "print(marks)\n",
    "# ========"
   ]
  },
  {
   "cell_type": "code",
   "execution_count": 36,
   "metadata": {
    "ExecuteTime": {
     "end_time": "2024-10-17T19:13:21.494912900Z",
     "start_time": "2024-10-17T19:13:21.416613Z"
    },
    "collapsed": false
   },
   "outputs": [
    {
     "name": "stdout",
     "output_type": "stream",
     "text": [
      "           Алгебра  Геометрия  Физика\n",
      "Александр        5          1       2\n",
      "Борис            5          1       3\n",
      "Владимир         3          3       5\n",
      "Дмитрий          2          3       5\n",
      "Григорий         2          0       4\n",
      "Евгений          4          0       2\n",
      "Игорь            3          2       5\n",
      "Клим             5          1       5\n",
      "Леонид           5          1       3\n",
      "Максим           5          5       5\n"
     ]
    }
   ],
   "source": [
    "# ========\n",
    "marks.at[\"Борис\", \"Алгебра\"] = 5\n",
    "print(marks)\n",
    "# ========"
   ]
  },
  {
   "cell_type": "code",
   "execution_count": 38,
   "metadata": {
    "ExecuteTime": {
     "end_time": "2024-10-17T19:13:50.533847300Z",
     "start_time": "2024-10-17T19:13:50.451289600Z"
    },
    "collapsed": false
   },
   "outputs": [
    {
     "name": "stdout",
     "output_type": "stream",
     "text": [
      "           Алгебра  Геометрия  Физика\n",
      "Александр        5          4       2\n",
      "Борис            5          4       3\n",
      "Владимир         3          4       5\n",
      "Дмитрий          2          4       5\n",
      "Григорий         2          4       4\n",
      "Евгений          4          4       2\n",
      "Игорь            3          4       5\n",
      "Клим             5          4       5\n",
      "Леонид           5          4       3\n",
      "Максим           5          4       5\n"
     ]
    }
   ],
   "source": [
    "# ========\n",
    "marks.iloc[:, 1] = 4\n",
    "print(marks)\n",
    "# ========"
   ]
  },
  {
   "cell_type": "markdown",
   "metadata": {
    "id": "F7p4R7ElC5nl"
   },
   "source": [
    "### Задание 4"
   ]
  },
  {
   "cell_type": "markdown",
   "metadata": {
    "id": "hK_5PqOSC5nn"
   },
   "source": [
    "Загрузите с Kaggle любым способом данные по ссылке: https://www.kaggle.com/datasets/spscientist/students-performance-in-exams, а затем выполните следующие задания:\n",
    "  1.  Добавить в `df` столбец *Средний балл*, в который разместите поделенную на 3 сумму оценок из трёх стобцов: *math score*, *reading score*, *writing score*. Вывести на экран результат.\n",
    "  2. Произвести группировку по полу ученика (значение в столбце *gender*). После для каждой из полученных групп, найти наименьшее, среднее, наибольшее значение в поле *Средний балл*. Вывести на экран результат."
   ]
  },
  {
   "cell_type": "code",
   "execution_count": 43,
   "metadata": {
    "ExecuteTime": {
     "end_time": "2024-10-17T19:17:51.654537200Z",
     "start_time": "2024-10-17T19:17:51.576506600Z"
    },
    "id": "j4vsVB4dC5np"
   },
   "outputs": [
    {
     "name": "stdout",
     "output_type": "stream",
     "text": [
      "   gender  math score  reading score  writing score  Средний балл\n",
      "0  female          72             72             74     72.666667\n",
      "1  female          69             90             88     82.333333\n",
      "2  female          90             95             93     92.666667\n",
      "3    male          47             57             44     49.333333\n",
      "4    male          76             78             75     76.333333\n",
      "         min       mean    max\n",
      "gender                        \n",
      "female   9.0  69.569498  100.0\n",
      "male    23.0  65.837483  100.0\n"
     ]
    }
   ],
   "source": [
    "# ========\n",
    "df = pd.read_csv('StudentsPerformance.csv')\n",
    "\n",
    "# Добавляем столбец\n",
    "df['Средний балл'] = df[['math score', 'reading score', 'writing score']].mean(axis=1)\n",
    "print(df[['gender', 'math score', 'reading score', 'writing score', 'Средний балл']].head())\n",
    "\n",
    "#Группировка\n",
    "grouped = df.groupby('gender')['Средний балл'].agg(['min', 'mean', 'max'])\n",
    "print(grouped)\n",
    "# ========"
   ]
  },
  {
   "cell_type": "markdown",
   "metadata": {
    "id": "JQ-VdmGclb7O"
   },
   "source": [
    "### Задание 5"
   ]
  },
  {
   "cell_type": "code",
   "execution_count": 45,
   "metadata": {
    "ExecuteTime": {
     "end_time": "2024-10-17T19:18:26.401595500Z",
     "start_time": "2024-10-17T19:18:26.395598300Z"
    },
    "colab": {
     "base_uri": "https://localhost:8080/",
     "height": 143
    },
    "id": "XAJ3ZeZHqDpD",
    "outputId": "8be6484a-5233-4656-aa8c-da4194b70260"
   },
   "outputs": [
    {
     "name": "stdout",
     "output_type": "stream",
     "text": [
      "     group  math score  physics score\n",
      "0  group_B          71             75\n",
      "1  group_B          87             98\n",
      "2  group_A          97             59\n"
     ]
    }
   ],
   "source": [
    "# Рассмотрим набор оценок на экзаменах по математике и физике студентов двух групп:\n",
    "import random\n",
    "df_marks = pd.DataFrame({'group': [\"group_A\" if random.random()>0.5 else \"group_B\" for i in range(12)],\n",
    "                         'math score': [random.randint(40,100) for _ in range(12)],\n",
    "                         'physics score': [random.randint(40,100) for _ in range(12)]})\n",
    "print(df_marks.head(3))"
   ]
  },
  {
   "cell_type": "markdown",
   "metadata": {
    "id": "YspYWPpblb7R"
   },
   "source": [
    "  1.  Из набора данных `df_marks` получить выборку студентов у которых по всем экзаменам набрано более 60 баллов. Результат сохранить в `df_marks2`.\n",
    "\n",
    "  2. В `df_marks2` произвести группировку по группе ученика (по значению в столбце *group*). После, используя операцию агрегации, получить для каждой группы среднее значение оценки за каждый экзамен и его разделить на 100.\n"
   ]
  },
  {
   "cell_type": "code",
   "execution_count": 46,
   "metadata": {
    "ExecuteTime": {
     "end_time": "2024-10-17T19:25:37.473522700Z",
     "start_time": "2024-10-17T19:25:37.459511700Z"
    },
    "id": "iWFG15J8lb7T"
   },
   "outputs": [
    {
     "name": "stdout",
     "output_type": "stream",
     "text": [
      "      group  math score  physics score\n",
      "0   group_B          71             75\n",
      "1   group_B          87             98\n",
      "3   group_B          73             84\n",
      "7   group_A          87             63\n",
      "8   group_B          65             61\n",
      "10  group_A          99             92\n"
     ]
    }
   ],
   "source": [
    "# ========\n",
    "# Отбор студентов\n",
    "df_marks2 = df_marks[(df_marks['math score'] > 60) & (df_marks['physics score'] > 60)]\n",
    "print(df_marks2)\n",
    "# ========"
   ]
  },
  {
   "cell_type": "code",
   "execution_count": 47,
   "metadata": {
    "ExecuteTime": {
     "end_time": "2024-10-17T19:25:48.985492300Z",
     "start_time": "2024-10-17T19:25:48.916155600Z"
    },
    "collapsed": false
   },
   "outputs": [
    {
     "name": "stdout",
     "output_type": "stream",
     "text": [
      "         math score  physics score\n",
      "group                             \n",
      "group_A        0.93          0.775\n",
      "group_B        0.74          0.795\n"
     ]
    }
   ],
   "source": [
    "# Группировка по группе и агрегация средних значений\n",
    "df_grouped = df_marks2.groupby('group').agg({\n",
    "    'math score': 'mean',\n",
    "    'physics score': 'mean'\n",
    "}) / 100\n",
    "print(df_grouped)"
   ]
  },
  {
   "cell_type": "code",
   "execution_count": null,
   "metadata": {
    "collapsed": false
   },
   "outputs": [],
   "source": []
  }
 ],
 "metadata": {
  "colab": {
   "collapsed_sections": [
    "UhJ-wLBvA4gZ",
    "IoDWX58hedPX",
    "MPgVgDUTnXqw",
    "Pd6UPgq3A4gz",
    "KbkEPDssFfyr",
    "3m6tFVafqu8e",
    "OSXw3h03A4g0",
    "UJLqQ3xAA4g2",
    "y11vowo0A4g5",
    "LrF6uaPPG76N",
    "F7p4R7ElC5nl",
    "K4e_g0VZAUfJ",
    "FmsTuTudnNgg",
    "V1IxR_YSA4hU",
    "trAyUc_vA4hX",
    "iOXCHyvYA4hd",
    "sVw6j7IiVY00",
    "JQ-VdmGclb7O",
    "Re6lxzQkexKH",
    "CW3C5apftJDv",
    "OpbVU84Ytbb-",
    "9AEy2Ef6z7ZN",
    "cSgWb1rbhNRp"
   ],
   "provenance": []
  },
  "kernelspec": {
   "display_name": ".venv",
   "language": "python",
   "name": "python3"
  },
  "language_info": {
   "codemirror_mode": {
    "name": "ipython",
    "version": 3
   },
   "file_extension": ".py",
   "mimetype": "text/x-python",
   "name": "python",
   "nbconvert_exporter": "python",
   "pygments_lexer": "ipython3",
   "version": "3.10.11"
  }
 },
 "nbformat": 4,
 "nbformat_minor": 1
}
