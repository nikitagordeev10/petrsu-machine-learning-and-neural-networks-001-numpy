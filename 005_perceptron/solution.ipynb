{
 "cells": [
  {
   "cell_type": "markdown",
   "id": "c3608e28",
   "metadata": {},
   "source": [
    "# Домашнее задание №5. Перцептрон\n",
    "В этом задании не важно, насколько хорошими получатся результаты обучения. Пока важно лишь научиться обрабатывать данные и проводить обучение на них."
   ]
  },
  {
   "cell_type": "markdown",
   "id": "4ffd5ba4",
   "metadata": {},
   "source": [
    "## Задание 1\n",
    "Загрузите датасет Titanic с Kaggle по ссылке: https://www.kaggle.com/competitions/titanic/data?select=train.csv (пока ограничимся только train.csv). Создайте pandas.DataFrame для его хранения."
   ]
  },
  {
   "cell_type": "code",
   "execution_count": 28,
   "id": "df6c8eda",
   "metadata": {},
   "outputs": [
    {
     "name": "stdout",
     "output_type": "stream",
     "text": [
      "   PassengerId  Survived  Pclass  \\\n",
      "0            1         0       3   \n",
      "1            2         1       1   \n",
      "2            3         1       3   \n",
      "3            4         1       1   \n",
      "4            5         0       3   \n",
      "\n",
      "                                                Name     Sex   Age  SibSp  \\\n",
      "0                            Braund, Mr. Owen Harris    male  22.0      1   \n",
      "1  Cumings, Mrs. John Bradley (Florence Briggs Th...  female  38.0      1   \n",
      "2                             Heikkinen, Miss. Laina  female  26.0      0   \n",
      "3       Futrelle, Mrs. Jacques Heath (Lily May Peel)  female  35.0      1   \n",
      "4                           Allen, Mr. William Henry    male  35.0      0   \n",
      "\n",
      "   Parch            Ticket     Fare Cabin Embarked  \n",
      "0      0         A/5 21171   7.2500   NaN        S  \n",
      "1      0          PC 17599  71.2833   C85        C  \n",
      "2      0  STON/O2. 3101282   7.9250   NaN        S  \n",
      "3      0            113803  53.1000  C123        S  \n",
      "4      0            373450   8.0500   NaN        S  \n"
     ]
    }
   ],
   "source": [
    "import pandas as pd\n",
    "\n",
    "# Загрузка данных из файла train.csv\n",
    "df = pd.read_csv('train.csv')\n",
    "\n",
    "print(df.head())"
   ]
  },
  {
   "cell_type": "markdown",
   "id": "d39f761e",
   "metadata": {},
   "source": [
    "## Задание 2\n",
    "Преобразуйте DataFrame так, чтобы в нем остались только числовые данные. Некоторые незначащие столбцы можно исключить, некоторые надо просто преобразовать."
   ]
  },
  {
   "cell_type": "code",
   "execution_count": 29,
   "id": "c0b4dc19",
   "metadata": {},
   "outputs": [
    {
     "name": "stdout",
     "output_type": "stream",
     "text": [
      "PassengerId    0\n",
      "Survived       0\n",
      "Pclass         0\n",
      "Sex            0\n",
      "Age            0\n",
      "SibSp          0\n",
      "Parch          0\n",
      "Fare           0\n",
      "dtype: int64\n"
     ]
    }
   ],
   "source": [
    "# Преобразование категориальных данных в числовые\n",
    "df['Sex'] = df['Sex'].map({'male': 0, 'female': 1})\n",
    "\n",
    "# Удаление столбцов, которые не содержат числовых данных\n",
    "df = df.drop(['Name', 'Ticket', 'Cabin', 'Embarked'], axis=1)\n",
    "\n",
    "# Обработка пропусков в числовых столбцах\n",
    "df.fillna(df.mean(), inplace=True)\n",
    "\n",
    "# Проверка на пропуски после обработки\n",
    "print(df.isnull().sum())\n"
   ]
  },
  {
   "cell_type": "markdown",
   "id": "39753fcd",
   "metadata": {},
   "source": [
    "## Задание 3\n",
    "Разделите получившийся DataFrame на обучающую (80%) и тестовую выборку (20%). Отдельно выделите столбец, который модель будет предсказывать, у нас это будет столбец с данными о том, выжил ли пассажир."
   ]
  },
  {
   "cell_type": "code",
   "execution_count": 30,
   "id": "5590334a",
   "metadata": {},
   "outputs": [
    {
     "name": "stdout",
     "output_type": "stream",
     "text": [
      "Обучающая выборка X: (712, 7)\n",
      "Тестовая выборка X: (179, 7)\n"
     ]
    }
   ],
   "source": [
    "from sklearn.model_selection import train_test_split\n",
    "\n",
    "# Целевая переменная (Survived)\n",
    "y = df['Survived']\n",
    "\n",
    "# Признаки (все столбцы, кроме Survived)\n",
    "X = df.drop('Survived', axis=1)\n",
    "\n",
    "# Разделение на обучающую (80%) и тестовую (20%) выборку\n",
    "X_train, X_test, y_train, y_test = train_test_split(X, y, test_size=0.2, random_state=42)\n",
    "\n",
    "# Проверка формы данных\n",
    "print(f\"Обучающая выборка X: {X_train.shape}\")\n",
    "print(f\"Тестовая выборка X: {X_test.shape}\")"
   ]
  },
  {
   "cell_type": "markdown",
   "id": "a662ba6f",
   "metadata": {},
   "source": [
    "## Задание 4\n",
    "Используйте обучающую выборку для обучение перцептрона (используйте класс, написанный на семинаре, либо sklearn.linear_model.Perceptron). Выведите точность полученной модели на тестовой выборке."
   ]
  },
  {
   "cell_type": "code",
   "execution_count": 31,
   "id": "f28f59c5",
   "metadata": {},
   "outputs": [
    {
     "name": "stdout",
     "output_type": "stream",
     "text": [
      "Точность модели: 0.64\n"
     ]
    }
   ],
   "source": [
    "from sklearn.linear_model import Perceptron\n",
    "from sklearn.metrics import accuracy_score\n",
    "\n",
    "# Инициализация модели перцептрона\n",
    "model = Perceptron(max_iter=1000, random_state=42)\n",
    "\n",
    "# Обучение модели на обучающих данных\n",
    "model.fit(X_train, y_train)\n",
    "\n",
    "# Прогнозирование на тестовых данных\n",
    "y_pred = model.predict(X_test)\n",
    "\n",
    "# Оценка точности\n",
    "accuracy = accuracy_score(y_test, y_pred)\n",
    "print(f'Точность модели: {accuracy:.2f}')"
   ]
  }
 ],
 "metadata": {
  "kernelspec": {
   "display_name": ".venv",
   "language": "python",
   "name": "python3"
  },
  "language_info": {
   "codemirror_mode": {
    "name": "ipython",
    "version": 3
   },
   "file_extension": ".py",
   "mimetype": "text/x-python",
   "name": "python",
   "nbconvert_exporter": "python",
   "pygments_lexer": "ipython3",
   "version": "3.10.11"
  }
 },
 "nbformat": 4,
 "nbformat_minor": 5
}
